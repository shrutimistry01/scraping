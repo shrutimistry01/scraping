{
 "cells": [
  {
   "cell_type": "code",
   "execution_count": 1,
   "id": "35587776",
   "metadata": {},
   "outputs": [
    {
     "name": "stdout",
     "output_type": "stream",
     "text": [
      "Requirement already satisfied: selenium in c:\\users\\91836\\anaconda3\\lib\\site-packages (3.141.0)\n",
      "Requirement already satisfied: bs4 in c:\\users\\91836\\anaconda3\\lib\\site-packages (0.0.1)\n",
      "Requirement already satisfied: urllib3 in c:\\users\\91836\\anaconda3\\lib\\site-packages (from selenium) (1.26.7)\n",
      "Requirement already satisfied: beautifulsoup4 in c:\\users\\91836\\anaconda3\\lib\\site-packages (from bs4) (4.10.0)\n",
      "Requirement already satisfied: soupsieve>1.2 in c:\\users\\91836\\anaconda3\\lib\\site-packages (from beautifulsoup4->bs4) (2.2.1)\n",
      "Note: you may need to restart the kernel to use updated packages.\n"
     ]
    }
   ],
   "source": [
    "pip install selenium bs4"
   ]
  },
  {
   "cell_type": "code",
   "execution_count": 2,
   "id": "54950ec3",
   "metadata": {},
   "outputs": [],
   "source": [
    "#Import necessary modules\n",
    "\n",
    "import time\n",
    "from selenium import webdriver\n",
    "from selenium.webdriver.common.keys import Keys\n",
    "from selenium.webdriver.common.by import By\n",
    "from selenium.webdriver.support.ui import WebDriverWait\n",
    "from selenium.webdriver.support import expected_conditions as EC\n",
    "from bs4 import BeautifulSoup as bs\n",
    "import pandas as pd"
   ]
  },
  {
   "cell_type": "code",
   "execution_count": 3,
   "id": "5b6e6514",
   "metadata": {},
   "outputs": [],
   "source": [
    "#Initiate browser to scrape, navigate to Linkedin main website\n",
    "\n",
    "PATH = 'C:/Users/91836/data_science_proj/internA/chromedriver.exe'\n",
    "browser = webdriver.Chrome(PATH)\n",
    "browser.get('https://www.linkedin.com/')\n",
    "browser.maximize_window()\n",
    "time.sleep(5)"
   ]
  },
  {
   "cell_type": "code",
   "execution_count": 4,
   "id": "aac42abb",
   "metadata": {},
   "outputs": [],
   "source": [
    "#Login procedure\n",
    "username = browser.find_element('id', 'session_key')\n",
    "username.send_keys('shruti_mistry@yahoo.com')\n",
    "password = browser.find_element('id', 'session_password')\n",
    "password.send_keys('Shrutii@9')\n",
    "browser.find_element(By.CLASS_NAME,'sign-in-form__submit-button').click()\n",
    "time.sleep(15)"
   ]
  },
  {
   "cell_type": "code",
   "execution_count": 5,
   "id": "a99098af",
   "metadata": {},
   "outputs": [],
   "source": [
    "#Navigate to job listing subdomain\n",
    "\n",
    "browser.get('https://www.linkedin.com/jobs/search/')\n",
    "time.sleep(5)"
   ]
  },
  {
   "cell_type": "code",
   "execution_count": 6,
   "id": "93166f4e",
   "metadata": {},
   "outputs": [],
   "source": [
    "#Search for a specific job and location\n",
    "job_search = browser.find_element(By.CLASS_NAME, \"jobs-search-box__text-input\")\n",
    "job_search.send_keys('data scientist')\n",
    "job_loc_search = browser.find_element(By.XPATH, '//input[@aria-label=\"City, state, or zip code\"]')\n",
    "job_loc_search.clear()\n",
    "job_loc_search.send_keys('Maharashtra')\n",
    "browser.find_element(By.CLASS_NAME, \"jobs-search-box__submit-button\").click()\n",
    "time.sleep(20)"
   ]
  },
  {
   "cell_type": "code",
   "execution_count": 7,
   "id": "fb031b9d",
   "metadata": {},
   "outputs": [],
   "source": [
    "#Start scraping job details\n",
    "#Initiate an empty list to hold job infomation\n",
    "\n",
    "job_lists = []\n",
    "for page in range(2,3): # range(2, can be change depending on mood) :)\n",
    "    job_cards = browser.find_elements(By.XPATH, '//ul[@class=\"scaffold-layout__list-container\"]/li') #Class got changed??\n",
    "    card_ids = [result.get_attribute('id') for result in job_cards] #Get all job ids to let selenium click each job individually\n",
    "    #print(card_ids)\n",
    "    for id in card_ids:\n",
    "        time.sleep(1)\n",
    "        try:\n",
    "            job = browser.find_element(By.ID, id)\n",
    "            job_id = job.get_attribute('data-occludable-job-id')\n",
    "            browser.find_element(By.XPATH, f'//div[@data-job-id={job_id}]').click() #Click on each job for the html to show the card\n",
    "        except:\n",
    "            continue\n",
    "\n",
    "        try:\n",
    "            job_title = browser.find_element(By.XPATH, \"//h2[@class='t-24 t-bold jobs-unified-top-card__job-title']\").text\n",
    "        except:\n",
    "            job_title = ''\n",
    "           \n",
    "\n",
    "        try:\n",
    "            sub_card_1 = browser.find_element(By.XPATH, \"//span[@class='jobs-unified-top-card__subtitle-primary-grouping t-black']\").find_elements(By.TAG_NAME, 'span')\n",
    "            job_company = sub_card_1[0].text\n",
    "            job_location = sub_card_1[1].text\n",
    "        except:\n",
    "            job_company = ''\n",
    "            job_location = ''\n",
    "            \n",
    "\n",
    "        job_list = [job_title, job_company, job_location]\n",
    "        job_lists.append(job_list)\n",
    "\n",
    "    browser.find_element(By.XPATH, f'//button[@aria-label=\"Page {page}\"]').click()\n",
    "    time.sleep(2)"
   ]
  },
  {
   "cell_type": "code",
   "execution_count": 8,
   "id": "2b0376fa",
   "metadata": {},
   "outputs": [],
   "source": [
    "#Create a dataframe for exporting csv file\n",
    "\n",
    "df = pd.DataFrame(job_lists, columns=['Job title', 'Company', 'Working location'])\n",
    "df\n",
    "\n",
    "#Export dataframe to a csv file\n",
    "df.to_csv('linkedin_job_details.csv')"
   ]
  },
  {
   "cell_type": "code",
   "execution_count": null,
   "id": "8f47d016",
   "metadata": {},
   "outputs": [],
   "source": [
    "\n",
    "\n"
   ]
  }
 ],
 "metadata": {
  "kernelspec": {
   "display_name": "Python 3 (ipykernel)",
   "language": "python",
   "name": "python3"
  },
  "language_info": {
   "codemirror_mode": {
    "name": "ipython",
    "version": 3
   },
   "file_extension": ".py",
   "mimetype": "text/x-python",
   "name": "python",
   "nbconvert_exporter": "python",
   "pygments_lexer": "ipython3",
   "version": "3.9.7"
  }
 },
 "nbformat": 4,
 "nbformat_minor": 5
}
